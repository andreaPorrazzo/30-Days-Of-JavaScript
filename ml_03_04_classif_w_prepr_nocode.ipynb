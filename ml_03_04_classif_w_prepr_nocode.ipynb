{
  "cells": [
    {
      "cell_type": "markdown",
      "metadata": {
        "id": "view-in-github",
        "colab_type": "text"
      },
      "source": [
        "<a href=\"https://colab.research.google.com/github/andreaPorrazzo/30-Days-Of-JavaScript/blob/master/ml_03_04_classif_w_prepr_nocode.ipynb\" target=\"_parent\"><img src=\"https://colab.research.google.com/assets/colab-badge.svg\" alt=\"Open In Colab\"/></a>"
      ]
    },
    {
      "cell_type": "markdown",
      "metadata": {
        "id": "EU9cxEBvwRyR"
      },
      "source": [
        "# Preprocessing: transform categorical data\n",
        "by Claudio Sartori\n",
        "\n",
        "In `scikit-learn` the classifiers require numeric data. The library makes available a set of preprocessing fuctions which help the transformation. This exercise proposes two types of transformations:\n",
        "\n",
        "- `OneHotEncoder` for purely categorical columns: if the column has **V** distinct values it is substituted by **V** binary columns where in each row only the bit corrosponding to the original value is true\n",
        "- `OrdinalEncoder` for ordinal columns: the original **V** values are mapped into the **0..V-1** range\n",
        "\n",
        "The additional function `ColumnTransformer` allows to apply the different transformations to the appropriate columns with a single statement.\n",
        "\n",
        "### To do:\n",
        "- import the appropriate names\n",
        "- set the random state\n",
        "- import the data set with the appropriate column names\n",
        "- inspect the content and the data types\n",
        "- read carefully the `.names` file of the data set, to understand which are the ordinal and categorical data\n",
        "- data cleaning\n",
        "    - the **ordinal transformer** generates a mapping from strings to numbers according to the lexicographic sorting of the strings; in this particular case, the strings indicate numeric subranges, and ranges with one digit constitute exceptions\n",
        "        '5-9' happens to be after '20-25'\n",
        "    - it is necessary to transform '5-9' into '05-09', and the same for other similar cases\n",
        "    - a way to do this is to prepare dictionaries for the translation and use the `.map` function\n",
        "- prepare the lists of the ordinal, categorical and numeric columns\n",
        "- prepare the preprocessor\n",
        "- split the cleaned data into the X and y part\n",
        "- fit_transform the preprocessor and generate the transformed data set\n",
        "- split the transformed data set into train and test\n",
        "- use the same method used for the exercise of 19/11 to test several classifiers"
      ]
    },
    {
      "cell_type": "code",
      "execution_count": 32,
      "metadata": {
        "colab": {
          "base_uri": "https://localhost:8080/"
        },
        "id": "o-br4omcwRyW",
        "outputId": "4674a4f1-c02e-4090-e379-1934033fc664"
      },
      "outputs": [
        {
          "output_type": "stream",
          "name": "stdout",
          "text": [
            "\n",
            "http://scikit-learn.org/stable/auto_examples/model_selection/plot_grid_search_digits.html\n",
            "@author: scikit-learn.org and Claudio Sartori\n",
            "\n"
          ]
        }
      ],
      "source": [
        "\"\"\"\n",
        "http://scikit-learn.org/stable/auto_examples/model_selection/plot_grid_search_digits.html\n",
        "@author: scikit-learn.org and Claudio Sartori\n",
        "\"\"\"\n",
        "import warnings\n",
        "warnings.filterwarnings('ignore') # uncomment this line to suppress warnings\n",
        "\n",
        "import pandas as pd\n",
        "import numpy as np\n",
        "import matplotlib.pyplot as plt\n",
        "\n",
        "from sklearn.model_selection import train_test_split\n",
        "from sklearn.model_selection import GridSearchCV\n",
        "\n",
        "from sklearn.metrics import classification_report\n",
        "from sklearn.metrics import confusion_matrix\n",
        "from sklearn.preprocessing import OneHotEncoder, OrdinalEncoder\n",
        "from sklearn.compose import ColumnTransformer\n",
        "\n",
        "from sklearn.svm import SVC\n",
        "from sklearn.linear_model import Perceptron\n",
        "from sklearn.neural_network import MLPClassifier\n",
        "from sklearn.tree import DecisionTreeClassifier\n",
        "from sklearn.naive_bayes import GaussianNB\n",
        "from sklearn.neighbors import KNeighborsClassifier\n",
        "from sklearn.ensemble import RandomForestClassifier, AdaBoostClassifier\n",
        "\n",
        "print(__doc__) # print information included in the triple quotes at the beginning\n",
        "\n",
        "random_state = 42"
      ]
    },
    {
      "cell_type": "code",
      "execution_count": 6,
      "metadata": {
        "colab": {
          "base_uri": "https://localhost:8080/",
          "height": 206
        },
        "id": "uBHUKV41wRyZ",
        "outputId": "205aaa53-ffd4-4a36-a1b0-f3055f587bfd"
      },
      "outputs": [
        {
          "output_type": "execute_result",
          "data": {
            "text/html": [
              "\n",
              "  <div id=\"df-ce2933a3-0cdb-49ff-ac1c-c9dd508849a5\">\n",
              "    <div class=\"colab-df-container\">\n",
              "      <div>\n",
              "<style scoped>\n",
              "    .dataframe tbody tr th:only-of-type {\n",
              "        vertical-align: middle;\n",
              "    }\n",
              "\n",
              "    .dataframe tbody tr th {\n",
              "        vertical-align: top;\n",
              "    }\n",
              "\n",
              "    .dataframe thead th {\n",
              "        text-align: right;\n",
              "    }\n",
              "</style>\n",
              "<table border=\"1\" class=\"dataframe\">\n",
              "  <thead>\n",
              "    <tr style=\"text-align: right;\">\n",
              "      <th></th>\n",
              "      <th>Class</th>\n",
              "      <th>age</th>\n",
              "      <th>menopause</th>\n",
              "      <th>tumor-size</th>\n",
              "      <th>inv-nodes</th>\n",
              "      <th>node-caps</th>\n",
              "      <th>deg-malig</th>\n",
              "      <th>breast</th>\n",
              "      <th>breast-quad</th>\n",
              "      <th>irradiat</th>\n",
              "    </tr>\n",
              "  </thead>\n",
              "  <tbody>\n",
              "    <tr>\n",
              "      <th>0</th>\n",
              "      <td>no-recurrence-events</td>\n",
              "      <td>30-39</td>\n",
              "      <td>premeno</td>\n",
              "      <td>30-34</td>\n",
              "      <td>0-2</td>\n",
              "      <td>no</td>\n",
              "      <td>3</td>\n",
              "      <td>left</td>\n",
              "      <td>left_low</td>\n",
              "      <td>no</td>\n",
              "    </tr>\n",
              "    <tr>\n",
              "      <th>1</th>\n",
              "      <td>no-recurrence-events</td>\n",
              "      <td>40-49</td>\n",
              "      <td>premeno</td>\n",
              "      <td>20-24</td>\n",
              "      <td>0-2</td>\n",
              "      <td>no</td>\n",
              "      <td>2</td>\n",
              "      <td>right</td>\n",
              "      <td>right_up</td>\n",
              "      <td>no</td>\n",
              "    </tr>\n",
              "    <tr>\n",
              "      <th>2</th>\n",
              "      <td>no-recurrence-events</td>\n",
              "      <td>40-49</td>\n",
              "      <td>premeno</td>\n",
              "      <td>20-24</td>\n",
              "      <td>0-2</td>\n",
              "      <td>no</td>\n",
              "      <td>2</td>\n",
              "      <td>left</td>\n",
              "      <td>left_low</td>\n",
              "      <td>no</td>\n",
              "    </tr>\n",
              "    <tr>\n",
              "      <th>3</th>\n",
              "      <td>no-recurrence-events</td>\n",
              "      <td>60-69</td>\n",
              "      <td>ge40</td>\n",
              "      <td>15-19</td>\n",
              "      <td>0-2</td>\n",
              "      <td>no</td>\n",
              "      <td>2</td>\n",
              "      <td>right</td>\n",
              "      <td>left_up</td>\n",
              "      <td>no</td>\n",
              "    </tr>\n",
              "    <tr>\n",
              "      <th>4</th>\n",
              "      <td>no-recurrence-events</td>\n",
              "      <td>40-49</td>\n",
              "      <td>premeno</td>\n",
              "      <td>0-4</td>\n",
              "      <td>0-2</td>\n",
              "      <td>no</td>\n",
              "      <td>2</td>\n",
              "      <td>right</td>\n",
              "      <td>right_low</td>\n",
              "      <td>no</td>\n",
              "    </tr>\n",
              "  </tbody>\n",
              "</table>\n",
              "</div>\n",
              "      <button class=\"colab-df-convert\" onclick=\"convertToInteractive('df-ce2933a3-0cdb-49ff-ac1c-c9dd508849a5')\"\n",
              "              title=\"Convert this dataframe to an interactive table.\"\n",
              "              style=\"display:none;\">\n",
              "        \n",
              "  <svg xmlns=\"http://www.w3.org/2000/svg\" height=\"24px\"viewBox=\"0 0 24 24\"\n",
              "       width=\"24px\">\n",
              "    <path d=\"M0 0h24v24H0V0z\" fill=\"none\"/>\n",
              "    <path d=\"M18.56 5.44l.94 2.06.94-2.06 2.06-.94-2.06-.94-.94-2.06-.94 2.06-2.06.94zm-11 1L8.5 8.5l.94-2.06 2.06-.94-2.06-.94L8.5 2.5l-.94 2.06-2.06.94zm10 10l.94 2.06.94-2.06 2.06-.94-2.06-.94-.94-2.06-.94 2.06-2.06.94z\"/><path d=\"M17.41 7.96l-1.37-1.37c-.4-.4-.92-.59-1.43-.59-.52 0-1.04.2-1.43.59L10.3 9.45l-7.72 7.72c-.78.78-.78 2.05 0 2.83L4 21.41c.39.39.9.59 1.41.59.51 0 1.02-.2 1.41-.59l7.78-7.78 2.81-2.81c.8-.78.8-2.07 0-2.86zM5.41 20L4 18.59l7.72-7.72 1.47 1.35L5.41 20z\"/>\n",
              "  </svg>\n",
              "      </button>\n",
              "      \n",
              "  <style>\n",
              "    .colab-df-container {\n",
              "      display:flex;\n",
              "      flex-wrap:wrap;\n",
              "      gap: 12px;\n",
              "    }\n",
              "\n",
              "    .colab-df-convert {\n",
              "      background-color: #E8F0FE;\n",
              "      border: none;\n",
              "      border-radius: 50%;\n",
              "      cursor: pointer;\n",
              "      display: none;\n",
              "      fill: #1967D2;\n",
              "      height: 32px;\n",
              "      padding: 0 0 0 0;\n",
              "      width: 32px;\n",
              "    }\n",
              "\n",
              "    .colab-df-convert:hover {\n",
              "      background-color: #E2EBFA;\n",
              "      box-shadow: 0px 1px 2px rgba(60, 64, 67, 0.3), 0px 1px 3px 1px rgba(60, 64, 67, 0.15);\n",
              "      fill: #174EA6;\n",
              "    }\n",
              "\n",
              "    [theme=dark] .colab-df-convert {\n",
              "      background-color: #3B4455;\n",
              "      fill: #D2E3FC;\n",
              "    }\n",
              "\n",
              "    [theme=dark] .colab-df-convert:hover {\n",
              "      background-color: #434B5C;\n",
              "      box-shadow: 0px 1px 3px 1px rgba(0, 0, 0, 0.15);\n",
              "      filter: drop-shadow(0px 1px 2px rgba(0, 0, 0, 0.3));\n",
              "      fill: #FFFFFF;\n",
              "    }\n",
              "  </style>\n",
              "\n",
              "      <script>\n",
              "        const buttonEl =\n",
              "          document.querySelector('#df-ce2933a3-0cdb-49ff-ac1c-c9dd508849a5 button.colab-df-convert');\n",
              "        buttonEl.style.display =\n",
              "          google.colab.kernel.accessAllowed ? 'block' : 'none';\n",
              "\n",
              "        async function convertToInteractive(key) {\n",
              "          const element = document.querySelector('#df-ce2933a3-0cdb-49ff-ac1c-c9dd508849a5');\n",
              "          const dataTable =\n",
              "            await google.colab.kernel.invokeFunction('convertToInteractive',\n",
              "                                                     [key], {});\n",
              "          if (!dataTable) return;\n",
              "\n",
              "          const docLinkHtml = 'Like what you see? Visit the ' +\n",
              "            '<a target=\"_blank\" href=https://colab.research.google.com/notebooks/data_table.ipynb>data table notebook</a>'\n",
              "            + ' to learn more about interactive tables.';\n",
              "          element.innerHTML = '';\n",
              "          dataTable['output_type'] = 'display_data';\n",
              "          await google.colab.output.renderOutput(dataTable, element);\n",
              "          const docLink = document.createElement('div');\n",
              "          docLink.innerHTML = docLinkHtml;\n",
              "          element.appendChild(docLink);\n",
              "        }\n",
              "      </script>\n",
              "    </div>\n",
              "  </div>\n",
              "  "
            ],
            "text/plain": [
              "                  Class    age menopause  ... breast breast-quad irradiat\n",
              "0  no-recurrence-events  30-39   premeno  ...   left    left_low       no\n",
              "1  no-recurrence-events  40-49   premeno  ...  right    right_up       no\n",
              "2  no-recurrence-events  40-49   premeno  ...   left    left_low       no\n",
              "3  no-recurrence-events  60-69      ge40  ...  right     left_up       no\n",
              "4  no-recurrence-events  40-49   premeno  ...  right   right_low       no\n",
              "\n",
              "[5 rows x 10 columns]"
            ]
          },
          "metadata": {},
          "execution_count": 6
        }
      ],
      "source": [
        "# url = 'diagnosis.data'\n",
        "# names = ['Temp', 'Nau', 'Lum', 'Uri', 'Mic', 'Bur', 'd1', 'd2']\n",
        "# sep = \"\\t\"\n",
        "url = 'breast-cancer.data'\n",
        "names = ['Class','age','menopause','tumor-size','inv-nodes',\n",
        "         'node-caps','deg-malig','breast','breast-quad','irradiat']\n",
        "sep = \",\"\n",
        "\n",
        "df = pd.read_csv(url, names = names, sep=sep)\n",
        "df.head()"
      ]
    },
    {
      "cell_type": "markdown",
      "metadata": {
        "id": "AejkSJXGwRyb"
      },
      "source": [
        "Show the types of the columns"
      ]
    },
    {
      "cell_type": "code",
      "execution_count": 7,
      "metadata": {
        "colab": {
          "base_uri": "https://localhost:8080/"
        },
        "id": "YGBDsV4cwRyc",
        "outputId": "83da4386-0ca1-4539-8419-d65ea87b7ee1"
      },
      "outputs": [
        {
          "output_type": "stream",
          "name": "stdout",
          "text": [
            "Class          object\n",
            "age            object\n",
            "menopause      object\n",
            "tumor-size     object\n",
            "inv-nodes      object\n",
            "node-caps      object\n",
            "deg-malig       int64\n",
            "breast         object\n",
            "breast-quad    object\n",
            "irradiat       object\n",
            "dtype: object\n"
          ]
        }
      ],
      "source": [
        "print(df.dtypes)"
      ]
    },
    {
      "cell_type": "markdown",
      "metadata": {
        "id": "RnV20H-TwRyd"
      },
      "source": [
        "Clean the column `tumor-size`"
      ]
    },
    {
      "cell_type": "code",
      "execution_count": 8,
      "metadata": {
        "colab": {
          "base_uri": "https://localhost:8080/"
        },
        "id": "YuwWYtwEwRye",
        "outputId": "f04195ef-7570-4468-c71f-299769446bef"
      },
      "outputs": [
        {
          "output_type": "execute_result",
          "data": {
            "text/plain": [
              "{'0-4': '0-4',\n",
              " '10-14': '10-14',\n",
              " '15-19': '15-19',\n",
              " '20-24': '20-24',\n",
              " '25-29': '25-29',\n",
              " '30-34': '30-34',\n",
              " '35-39': '35-39',\n",
              " '40-44': '40-44',\n",
              " '45-49': '45-49',\n",
              " '5-9': '5-9',\n",
              " '50-54': '50-54'}"
            ]
          },
          "metadata": {},
          "execution_count": 8
        }
      ],
      "source": [
        "tumor_size_dict = dict(zip(list(df['tumor-size'].unique()),list(df['tumor-size'].unique())))\n",
        "tumor_size_dict"
      ]
    },
    {
      "cell_type": "code",
      "execution_count": 9,
      "metadata": {
        "id": "5iFbFH9UwRyg"
      },
      "outputs": [],
      "source": [
        "tumor_size_dict['0-4'] = '00-04'\n",
        "tumor_size_dict['5-9'] = '05-09'"
      ]
    },
    {
      "cell_type": "code",
      "execution_count": 10,
      "metadata": {
        "id": "scE-qPbkwRym"
      },
      "outputs": [],
      "source": [
        "df['tumor-size'] = df['tumor-size'].map(tumor_size_dict)"
      ]
    },
    {
      "cell_type": "markdown",
      "metadata": {
        "id": "A4GUqxLtwRyq"
      },
      "source": [
        "Clean the column `inv-nodes`"
      ]
    },
    {
      "cell_type": "code",
      "execution_count": 11,
      "metadata": {
        "id": "NMch_CkYwRys"
      },
      "outputs": [],
      "source": [
        "inv_nodes_dict = dict(zip(list(df['inv-nodes'].unique()),list(df['inv-nodes'].unique())))"
      ]
    },
    {
      "cell_type": "code",
      "execution_count": 12,
      "metadata": {
        "id": "GNGQttInwRyt"
      },
      "outputs": [],
      "source": [
        "inv_nodes_dict['0-2']  = '00-02'\n",
        "inv_nodes_dict['3-5']  = '03-05'\n",
        "inv_nodes_dict['6-8']  = '06-08'\n",
        "inv_nodes_dict['9-11'] = '09-11'"
      ]
    },
    {
      "cell_type": "code",
      "execution_count": 13,
      "metadata": {
        "id": "Nga6MhFbwRyt"
      },
      "outputs": [],
      "source": [
        "df['inv-nodes'] = df['inv-nodes'].map(inv_nodes_dict)"
      ]
    },
    {
      "cell_type": "markdown",
      "metadata": {
        "id": "pY3hn8jWwRyu"
      },
      "source": [
        "Inspect the data"
      ]
    },
    {
      "cell_type": "code",
      "execution_count": 14,
      "metadata": {
        "colab": {
          "base_uri": "https://localhost:8080/",
          "height": 206
        },
        "id": "z6APxQspwRyv",
        "outputId": "313bc18b-7a6b-4ea3-e459-e3c1f9d90379"
      },
      "outputs": [
        {
          "output_type": "execute_result",
          "data": {
            "text/html": [
              "\n",
              "  <div id=\"df-82efbacc-e138-4c74-8906-369800831e11\">\n",
              "    <div class=\"colab-df-container\">\n",
              "      <div>\n",
              "<style scoped>\n",
              "    .dataframe tbody tr th:only-of-type {\n",
              "        vertical-align: middle;\n",
              "    }\n",
              "\n",
              "    .dataframe tbody tr th {\n",
              "        vertical-align: top;\n",
              "    }\n",
              "\n",
              "    .dataframe thead th {\n",
              "        text-align: right;\n",
              "    }\n",
              "</style>\n",
              "<table border=\"1\" class=\"dataframe\">\n",
              "  <thead>\n",
              "    <tr style=\"text-align: right;\">\n",
              "      <th></th>\n",
              "      <th>Class</th>\n",
              "      <th>age</th>\n",
              "      <th>menopause</th>\n",
              "      <th>tumor-size</th>\n",
              "      <th>inv-nodes</th>\n",
              "      <th>node-caps</th>\n",
              "      <th>deg-malig</th>\n",
              "      <th>breast</th>\n",
              "      <th>breast-quad</th>\n",
              "      <th>irradiat</th>\n",
              "    </tr>\n",
              "  </thead>\n",
              "  <tbody>\n",
              "    <tr>\n",
              "      <th>0</th>\n",
              "      <td>no-recurrence-events</td>\n",
              "      <td>30-39</td>\n",
              "      <td>premeno</td>\n",
              "      <td>30-34</td>\n",
              "      <td>00-02</td>\n",
              "      <td>no</td>\n",
              "      <td>3</td>\n",
              "      <td>left</td>\n",
              "      <td>left_low</td>\n",
              "      <td>no</td>\n",
              "    </tr>\n",
              "    <tr>\n",
              "      <th>1</th>\n",
              "      <td>no-recurrence-events</td>\n",
              "      <td>40-49</td>\n",
              "      <td>premeno</td>\n",
              "      <td>20-24</td>\n",
              "      <td>00-02</td>\n",
              "      <td>no</td>\n",
              "      <td>2</td>\n",
              "      <td>right</td>\n",
              "      <td>right_up</td>\n",
              "      <td>no</td>\n",
              "    </tr>\n",
              "    <tr>\n",
              "      <th>2</th>\n",
              "      <td>no-recurrence-events</td>\n",
              "      <td>40-49</td>\n",
              "      <td>premeno</td>\n",
              "      <td>20-24</td>\n",
              "      <td>00-02</td>\n",
              "      <td>no</td>\n",
              "      <td>2</td>\n",
              "      <td>left</td>\n",
              "      <td>left_low</td>\n",
              "      <td>no</td>\n",
              "    </tr>\n",
              "    <tr>\n",
              "      <th>3</th>\n",
              "      <td>no-recurrence-events</td>\n",
              "      <td>60-69</td>\n",
              "      <td>ge40</td>\n",
              "      <td>15-19</td>\n",
              "      <td>00-02</td>\n",
              "      <td>no</td>\n",
              "      <td>2</td>\n",
              "      <td>right</td>\n",
              "      <td>left_up</td>\n",
              "      <td>no</td>\n",
              "    </tr>\n",
              "    <tr>\n",
              "      <th>4</th>\n",
              "      <td>no-recurrence-events</td>\n",
              "      <td>40-49</td>\n",
              "      <td>premeno</td>\n",
              "      <td>00-04</td>\n",
              "      <td>00-02</td>\n",
              "      <td>no</td>\n",
              "      <td>2</td>\n",
              "      <td>right</td>\n",
              "      <td>right_low</td>\n",
              "      <td>no</td>\n",
              "    </tr>\n",
              "  </tbody>\n",
              "</table>\n",
              "</div>\n",
              "      <button class=\"colab-df-convert\" onclick=\"convertToInteractive('df-82efbacc-e138-4c74-8906-369800831e11')\"\n",
              "              title=\"Convert this dataframe to an interactive table.\"\n",
              "              style=\"display:none;\">\n",
              "        \n",
              "  <svg xmlns=\"http://www.w3.org/2000/svg\" height=\"24px\"viewBox=\"0 0 24 24\"\n",
              "       width=\"24px\">\n",
              "    <path d=\"M0 0h24v24H0V0z\" fill=\"none\"/>\n",
              "    <path d=\"M18.56 5.44l.94 2.06.94-2.06 2.06-.94-2.06-.94-.94-2.06-.94 2.06-2.06.94zm-11 1L8.5 8.5l.94-2.06 2.06-.94-2.06-.94L8.5 2.5l-.94 2.06-2.06.94zm10 10l.94 2.06.94-2.06 2.06-.94-2.06-.94-.94-2.06-.94 2.06-2.06.94z\"/><path d=\"M17.41 7.96l-1.37-1.37c-.4-.4-.92-.59-1.43-.59-.52 0-1.04.2-1.43.59L10.3 9.45l-7.72 7.72c-.78.78-.78 2.05 0 2.83L4 21.41c.39.39.9.59 1.41.59.51 0 1.02-.2 1.41-.59l7.78-7.78 2.81-2.81c.8-.78.8-2.07 0-2.86zM5.41 20L4 18.59l7.72-7.72 1.47 1.35L5.41 20z\"/>\n",
              "  </svg>\n",
              "      </button>\n",
              "      \n",
              "  <style>\n",
              "    .colab-df-container {\n",
              "      display:flex;\n",
              "      flex-wrap:wrap;\n",
              "      gap: 12px;\n",
              "    }\n",
              "\n",
              "    .colab-df-convert {\n",
              "      background-color: #E8F0FE;\n",
              "      border: none;\n",
              "      border-radius: 50%;\n",
              "      cursor: pointer;\n",
              "      display: none;\n",
              "      fill: #1967D2;\n",
              "      height: 32px;\n",
              "      padding: 0 0 0 0;\n",
              "      width: 32px;\n",
              "    }\n",
              "\n",
              "    .colab-df-convert:hover {\n",
              "      background-color: #E2EBFA;\n",
              "      box-shadow: 0px 1px 2px rgba(60, 64, 67, 0.3), 0px 1px 3px 1px rgba(60, 64, 67, 0.15);\n",
              "      fill: #174EA6;\n",
              "    }\n",
              "\n",
              "    [theme=dark] .colab-df-convert {\n",
              "      background-color: #3B4455;\n",
              "      fill: #D2E3FC;\n",
              "    }\n",
              "\n",
              "    [theme=dark] .colab-df-convert:hover {\n",
              "      background-color: #434B5C;\n",
              "      box-shadow: 0px 1px 3px 1px rgba(0, 0, 0, 0.15);\n",
              "      filter: drop-shadow(0px 1px 2px rgba(0, 0, 0, 0.3));\n",
              "      fill: #FFFFFF;\n",
              "    }\n",
              "  </style>\n",
              "\n",
              "      <script>\n",
              "        const buttonEl =\n",
              "          document.querySelector('#df-82efbacc-e138-4c74-8906-369800831e11 button.colab-df-convert');\n",
              "        buttonEl.style.display =\n",
              "          google.colab.kernel.accessAllowed ? 'block' : 'none';\n",
              "\n",
              "        async function convertToInteractive(key) {\n",
              "          const element = document.querySelector('#df-82efbacc-e138-4c74-8906-369800831e11');\n",
              "          const dataTable =\n",
              "            await google.colab.kernel.invokeFunction('convertToInteractive',\n",
              "                                                     [key], {});\n",
              "          if (!dataTable) return;\n",
              "\n",
              "          const docLinkHtml = 'Like what you see? Visit the ' +\n",
              "            '<a target=\"_blank\" href=https://colab.research.google.com/notebooks/data_table.ipynb>data table notebook</a>'\n",
              "            + ' to learn more about interactive tables.';\n",
              "          element.innerHTML = '';\n",
              "          dataTable['output_type'] = 'display_data';\n",
              "          await google.colab.output.renderOutput(dataTable, element);\n",
              "          const docLink = document.createElement('div');\n",
              "          docLink.innerHTML = docLinkHtml;\n",
              "          element.appendChild(docLink);\n",
              "        }\n",
              "      </script>\n",
              "    </div>\n",
              "  </div>\n",
              "  "
            ],
            "text/plain": [
              "                  Class    age menopause  ... breast breast-quad irradiat\n",
              "0  no-recurrence-events  30-39   premeno  ...   left    left_low       no\n",
              "1  no-recurrence-events  40-49   premeno  ...  right    right_up       no\n",
              "2  no-recurrence-events  40-49   premeno  ...   left    left_low       no\n",
              "3  no-recurrence-events  60-69      ge40  ...  right     left_up       no\n",
              "4  no-recurrence-events  40-49   premeno  ...  right   right_low       no\n",
              "\n",
              "[5 rows x 10 columns]"
            ]
          },
          "metadata": {},
          "execution_count": 14
        }
      ],
      "source": [
        "df.head()"
      ]
    },
    {
      "cell_type": "markdown",
      "metadata": {
        "id": "tS74SgfXwRyv"
      },
      "source": [
        "Prepare the lists of numeric features, ordinal features, categorical features"
      ]
    },
    {
      "cell_type": "code",
      "execution_count": 44,
      "metadata": {
        "colab": {
          "base_uri": "https://localhost:8080/"
        },
        "id": "D_AW5fCkwRyw",
        "outputId": "1456bb69-01bc-4704-8567-4226880f997f"
      },
      "outputs": [
        {
          "output_type": "stream",
          "name": "stdout",
          "text": [
            "the non-numeric featueres are:\n",
            "['Class' 'age' 'menopause' 'tumor-size' 'inv-nodes' 'node-caps' 'breast'\n",
            " 'breast-quad' 'irradiat']\n"
          ]
        }
      ],
      "source": [
        "categorical_features= df.dtypes.loc[df.dtypes == 'object'].index.values\n",
        "print(\"the non-numeric featueres are:\")\n",
        "print(categorical_features)"
      ]
    },
    {
      "cell_type": "code",
      "execution_count": 45,
      "metadata": {
        "colab": {
          "base_uri": "https://localhost:8080/"
        },
        "id": "_qXacXFvwRyx",
        "outputId": "028a7979-3401-4c1b-88ad-5973bc73c0c6"
      },
      "outputs": [
        {
          "output_type": "stream",
          "name": "stdout",
          "text": [
            "the numeric features are:\n",
            "['deg-malig']\n"
          ]
        }
      ],
      "source": [
        "numeric_features= list(set(df.dtypes.index.values)-set(categorical_features))\n",
        "print(\"the numeric features are:\")\n",
        "print(numeric_features)"
      ]
    },
    {
      "cell_type": "code",
      "execution_count": 46,
      "metadata": {
        "id": "zm5lMQsGyxtP",
        "outputId": "df0a1112-3ab8-4271-96f0-8ef34b6c27b0",
        "colab": {
          "base_uri": "https://localhost:8080/"
        }
      },
      "outputs": [
        {
          "output_type": "stream",
          "name": "stdout",
          "text": [
            "The ordinal features are:\n",
            "['age', 'tumor-size', 'inv-nodes']\n"
          ]
        }
      ],
      "source": [
        "ordinal_features =['age', 'tumor-size','inv-nodes']\n",
        "print(\"The ordinal features are:\")\n",
        "print(ordinal_features)"
      ]
    },
    {
      "cell_type": "code",
      "execution_count": 47,
      "metadata": {
        "colab": {
          "base_uri": "https://localhost:8080/"
        },
        "id": "q0gPPLPcwRyz",
        "outputId": "82eb22e5-4d40-4c16-9bea-c16c55c56127"
      },
      "outputs": [
        {
          "output_type": "stream",
          "name": "stdout",
          "text": [
            "the categorical features are:\n",
            "['breast', 'irradiat', 'breast-quad', 'node-caps', 'menopause']\n"
          ]
        }
      ],
      "source": [
        "categorical_features= list(set(categorical_features) - set(ordinal_features)-set(['Class']))\n",
        "print(\"the categorical features are:\")\n",
        "print(categorical_features)"
      ]
    },
    {
      "cell_type": "markdown",
      "metadata": {
        "id": "GFTg7y2GwRy0"
      },
      "source": [
        "Prepare the transformer"
      ]
    },
    {
      "cell_type": "code",
      "execution_count": 48,
      "metadata": {
        "id": "2oLHegjpwRy0"
      },
      "outputs": [],
      "source": [
        " # transf_dtype = np.float64\n",
        "transf_dtype = np.int32\n",
        "\n",
        "categorical_transformer = OneHotEncoder(handle_unknown='ignore', sparse = False, dtype = transf_dtype)\n",
        "ordinal_transformer = OrdinalEncoder(dtype = transf_dtype)\n",
        "preprocessor = ColumnTransformer(\n",
        "    transformers = [('cat', categorical_transformer, categorical_features),\n",
        "                    ('ord', ordinal_transformer, ordinal_features)\n",
        "                   ],\n",
        "                    remainder = 'passthrough'\n",
        "    )"
      ]
    },
    {
      "cell_type": "markdown",
      "metadata": {
        "id": "-EONyXgQwRy1"
      },
      "source": [
        "Split X and y and check the shapes"
      ]
    },
    {
      "cell_type": "code",
      "execution_count": 22,
      "metadata": {
        "id": "qL5AejsqwRy1"
      },
      "outputs": [],
      "source": [
        "X = df.drop(['Class'], axis = 1)\n",
        "y = df['Class']"
      ]
    },
    {
      "cell_type": "code",
      "execution_count": 49,
      "metadata": {
        "colab": {
          "base_uri": "https://localhost:8080/"
        },
        "id": "EbrE9oo0wRy1",
        "outputId": "31e0977a-fe94-43e7-edc8-98e552296aed"
      },
      "outputs": [
        {
          "output_type": "stream",
          "name": "stdout",
          "text": [
            "The labels are\n",
            "['no-recurrence-events' 'recurrence-events']\n"
          ]
        }
      ],
      "source": [
        "labels = y.unique()\n",
        "print(\"The labels are\")\n",
        "print(labels)"
      ]
    },
    {
      "cell_type": "code",
      "execution_count": 50,
      "metadata": {
        "colab": {
          "base_uri": "https://localhost:8080/"
        },
        "id": "riQarftNwRy2",
        "outputId": "b6dee515-187e-4ba6-f8a3-2ee92775b54f"
      },
      "outputs": [
        {
          "output_type": "execute_result",
          "data": {
            "text/plain": [
              "(286, 9)"
            ]
          },
          "metadata": {},
          "execution_count": 50
        }
      ],
      "source": [
        "X.shape"
      ]
    },
    {
      "cell_type": "markdown",
      "metadata": {
        "id": "PaR1_mSNwRy2"
      },
      "source": [
        "Fit the preprocessor with X and check the parameters printing the `.named_transformers_` attribute"
      ]
    },
    {
      "cell_type": "code",
      "execution_count": 51,
      "metadata": {
        "colab": {
          "base_uri": "https://localhost:8080/"
        },
        "id": "K-yn36ojwRy3",
        "outputId": "a98bac43-12d7-4818-a4f2-1851c519fc0a"
      },
      "outputs": [
        {
          "output_type": "execute_result",
          "data": {
            "text/plain": [
              "ColumnTransformer(remainder='passthrough',\n",
              "                  transformers=[('cat',\n",
              "                                 OneHotEncoder(dtype=<class 'numpy.int32'>,\n",
              "                                               handle_unknown='ignore',\n",
              "                                               sparse=False),\n",
              "                                 ['breast', 'irradiat', 'breast-quad',\n",
              "                                  'node-caps', 'menopause']),\n",
              "                                ('ord',\n",
              "                                 OrdinalEncoder(dtype=<class 'numpy.int32'>),\n",
              "                                 ['age', 'tumor-size', 'inv-nodes'])])"
            ]
          },
          "metadata": {},
          "execution_count": 51
        }
      ],
      "source": [
        "preprocessor.fit(X)"
      ]
    },
    {
      "cell_type": "code",
      "execution_count": 52,
      "metadata": {
        "colab": {
          "base_uri": "https://localhost:8080/"
        },
        "id": "QUN7LhIlwRy3",
        "outputId": "59441b0f-3ef8-4543-9ce9-f9c17d1bedea"
      },
      "outputs": [
        {
          "output_type": "stream",
          "name": "stdout",
          "text": [
            "{'cat': OneHotEncoder(dtype=<class 'numpy.int32'>, handle_unknown='ignore',\n",
            "              sparse=False), 'ord': OrdinalEncoder(dtype=<class 'numpy.int32'>), 'remainder': 'passthrough'}\n"
          ]
        }
      ],
      "source": [
        "print(preprocessor.named_transformers_)"
      ]
    },
    {
      "cell_type": "markdown",
      "metadata": {
        "id": "y2HnBfcdwRy3"
      },
      "source": [
        "Fit-transform X and store the result in X_p, check the shape"
      ]
    },
    {
      "cell_type": "code",
      "execution_count": 54,
      "metadata": {
        "id": "73QJc7q-wRy4"
      },
      "outputs": [],
      "source": [
        "X_p = preprocessor.fit_transform(X)"
      ]
    },
    {
      "cell_type": "code",
      "execution_count": 55,
      "metadata": {
        "colab": {
          "base_uri": "https://localhost:8080/"
        },
        "id": "EsESDORhwRy4",
        "outputId": "e364ed52-73af-4304-f6aa-8eb3672559e2"
      },
      "outputs": [
        {
          "output_type": "execute_result",
          "data": {
            "text/plain": [
              "(286, 20)"
            ]
          },
          "metadata": {},
          "execution_count": 55
        }
      ],
      "source": [
        "X_p.shape"
      ]
    },
    {
      "cell_type": "markdown",
      "metadata": {
        "id": "nHnLgClwwRy5"
      },
      "source": [
        "For ease of inspection transform `X_p` into a data frame `df_p` and inspect it"
      ]
    },
    {
      "cell_type": "code",
      "execution_count": 56,
      "metadata": {
        "id": "R-zbmWKqwRy5"
      },
      "outputs": [],
      "source": [
        "df_p =pd.DataFrame(X_p)"
      ]
    },
    {
      "cell_type": "code",
      "execution_count": 57,
      "metadata": {
        "colab": {
          "base_uri": "https://localhost:8080/",
          "height": 364
        },
        "id": "1iQmZeztwRy5",
        "outputId": "a1211242-4d6c-408a-d558-2213c8c2092b"
      },
      "outputs": [
        {
          "output_type": "execute_result",
          "data": {
            "text/html": [
              "\n",
              "  <div id=\"df-aff600b4-0250-4cb4-af52-3b937de7f77a\">\n",
              "    <div class=\"colab-df-container\">\n",
              "      <div>\n",
              "<style scoped>\n",
              "    .dataframe tbody tr th:only-of-type {\n",
              "        vertical-align: middle;\n",
              "    }\n",
              "\n",
              "    .dataframe tbody tr th {\n",
              "        vertical-align: top;\n",
              "    }\n",
              "\n",
              "    .dataframe thead th {\n",
              "        text-align: right;\n",
              "    }\n",
              "</style>\n",
              "<table border=\"1\" class=\"dataframe\">\n",
              "  <thead>\n",
              "    <tr style=\"text-align: right;\">\n",
              "      <th></th>\n",
              "      <th>0</th>\n",
              "      <th>1</th>\n",
              "      <th>2</th>\n",
              "      <th>3</th>\n",
              "      <th>4</th>\n",
              "      <th>5</th>\n",
              "      <th>6</th>\n",
              "      <th>7</th>\n",
              "      <th>8</th>\n",
              "      <th>9</th>\n",
              "      <th>10</th>\n",
              "      <th>11</th>\n",
              "      <th>12</th>\n",
              "      <th>13</th>\n",
              "      <th>14</th>\n",
              "      <th>15</th>\n",
              "      <th>16</th>\n",
              "      <th>17</th>\n",
              "      <th>18</th>\n",
              "      <th>19</th>\n",
              "    </tr>\n",
              "  </thead>\n",
              "  <tbody>\n",
              "    <tr>\n",
              "      <th>count</th>\n",
              "      <td>286.000000</td>\n",
              "      <td>286.000000</td>\n",
              "      <td>286.000000</td>\n",
              "      <td>286.000000</td>\n",
              "      <td>286.000000</td>\n",
              "      <td>286.000000</td>\n",
              "      <td>286.000000</td>\n",
              "      <td>286.000000</td>\n",
              "      <td>286.000000</td>\n",
              "      <td>286.000000</td>\n",
              "      <td>286.000000</td>\n",
              "      <td>286.000000</td>\n",
              "      <td>286.000000</td>\n",
              "      <td>286.000000</td>\n",
              "      <td>286.000000</td>\n",
              "      <td>286.000000</td>\n",
              "      <td>286.000000</td>\n",
              "      <td>286.000000</td>\n",
              "      <td>286.000000</td>\n",
              "      <td>286.000000</td>\n",
              "    </tr>\n",
              "    <tr>\n",
              "      <th>mean</th>\n",
              "      <td>0.531469</td>\n",
              "      <td>0.468531</td>\n",
              "      <td>0.762238</td>\n",
              "      <td>0.237762</td>\n",
              "      <td>0.003497</td>\n",
              "      <td>0.073427</td>\n",
              "      <td>0.384615</td>\n",
              "      <td>0.339161</td>\n",
              "      <td>0.083916</td>\n",
              "      <td>0.115385</td>\n",
              "      <td>0.027972</td>\n",
              "      <td>0.776224</td>\n",
              "      <td>0.195804</td>\n",
              "      <td>0.451049</td>\n",
              "      <td>0.024476</td>\n",
              "      <td>0.524476</td>\n",
              "      <td>2.664336</td>\n",
              "      <td>4.881119</td>\n",
              "      <td>0.517483</td>\n",
              "      <td>2.048951</td>\n",
              "    </tr>\n",
              "    <tr>\n",
              "      <th>std</th>\n",
              "      <td>0.499883</td>\n",
              "      <td>0.499883</td>\n",
              "      <td>0.426459</td>\n",
              "      <td>0.426459</td>\n",
              "      <td>0.059131</td>\n",
              "      <td>0.261293</td>\n",
              "      <td>0.487357</td>\n",
              "      <td>0.474254</td>\n",
              "      <td>0.277748</td>\n",
              "      <td>0.320046</td>\n",
              "      <td>0.165182</td>\n",
              "      <td>0.417504</td>\n",
              "      <td>0.397514</td>\n",
              "      <td>0.498470</td>\n",
              "      <td>0.154791</td>\n",
              "      <td>0.500276</td>\n",
              "      <td>1.011818</td>\n",
              "      <td>2.105930</td>\n",
              "      <td>1.110417</td>\n",
              "      <td>0.738217</td>\n",
              "    </tr>\n",
              "    <tr>\n",
              "      <th>min</th>\n",
              "      <td>0.000000</td>\n",
              "      <td>0.000000</td>\n",
              "      <td>0.000000</td>\n",
              "      <td>0.000000</td>\n",
              "      <td>0.000000</td>\n",
              "      <td>0.000000</td>\n",
              "      <td>0.000000</td>\n",
              "      <td>0.000000</td>\n",
              "      <td>0.000000</td>\n",
              "      <td>0.000000</td>\n",
              "      <td>0.000000</td>\n",
              "      <td>0.000000</td>\n",
              "      <td>0.000000</td>\n",
              "      <td>0.000000</td>\n",
              "      <td>0.000000</td>\n",
              "      <td>0.000000</td>\n",
              "      <td>0.000000</td>\n",
              "      <td>0.000000</td>\n",
              "      <td>0.000000</td>\n",
              "      <td>1.000000</td>\n",
              "    </tr>\n",
              "    <tr>\n",
              "      <th>25%</th>\n",
              "      <td>0.000000</td>\n",
              "      <td>0.000000</td>\n",
              "      <td>1.000000</td>\n",
              "      <td>0.000000</td>\n",
              "      <td>0.000000</td>\n",
              "      <td>0.000000</td>\n",
              "      <td>0.000000</td>\n",
              "      <td>0.000000</td>\n",
              "      <td>0.000000</td>\n",
              "      <td>0.000000</td>\n",
              "      <td>0.000000</td>\n",
              "      <td>1.000000</td>\n",
              "      <td>0.000000</td>\n",
              "      <td>0.000000</td>\n",
              "      <td>0.000000</td>\n",
              "      <td>0.000000</td>\n",
              "      <td>2.000000</td>\n",
              "      <td>4.000000</td>\n",
              "      <td>0.000000</td>\n",
              "      <td>2.000000</td>\n",
              "    </tr>\n",
              "    <tr>\n",
              "      <th>50%</th>\n",
              "      <td>1.000000</td>\n",
              "      <td>0.000000</td>\n",
              "      <td>1.000000</td>\n",
              "      <td>0.000000</td>\n",
              "      <td>0.000000</td>\n",
              "      <td>0.000000</td>\n",
              "      <td>0.000000</td>\n",
              "      <td>0.000000</td>\n",
              "      <td>0.000000</td>\n",
              "      <td>0.000000</td>\n",
              "      <td>0.000000</td>\n",
              "      <td>1.000000</td>\n",
              "      <td>0.000000</td>\n",
              "      <td>0.000000</td>\n",
              "      <td>0.000000</td>\n",
              "      <td>1.000000</td>\n",
              "      <td>3.000000</td>\n",
              "      <td>5.000000</td>\n",
              "      <td>0.000000</td>\n",
              "      <td>2.000000</td>\n",
              "    </tr>\n",
              "    <tr>\n",
              "      <th>75%</th>\n",
              "      <td>1.000000</td>\n",
              "      <td>1.000000</td>\n",
              "      <td>1.000000</td>\n",
              "      <td>0.000000</td>\n",
              "      <td>0.000000</td>\n",
              "      <td>0.000000</td>\n",
              "      <td>1.000000</td>\n",
              "      <td>1.000000</td>\n",
              "      <td>0.000000</td>\n",
              "      <td>0.000000</td>\n",
              "      <td>0.000000</td>\n",
              "      <td>1.000000</td>\n",
              "      <td>0.000000</td>\n",
              "      <td>1.000000</td>\n",
              "      <td>0.000000</td>\n",
              "      <td>1.000000</td>\n",
              "      <td>3.000000</td>\n",
              "      <td>6.000000</td>\n",
              "      <td>1.000000</td>\n",
              "      <td>3.000000</td>\n",
              "    </tr>\n",
              "    <tr>\n",
              "      <th>max</th>\n",
              "      <td>1.000000</td>\n",
              "      <td>1.000000</td>\n",
              "      <td>1.000000</td>\n",
              "      <td>1.000000</td>\n",
              "      <td>1.000000</td>\n",
              "      <td>1.000000</td>\n",
              "      <td>1.000000</td>\n",
              "      <td>1.000000</td>\n",
              "      <td>1.000000</td>\n",
              "      <td>1.000000</td>\n",
              "      <td>1.000000</td>\n",
              "      <td>1.000000</td>\n",
              "      <td>1.000000</td>\n",
              "      <td>1.000000</td>\n",
              "      <td>1.000000</td>\n",
              "      <td>1.000000</td>\n",
              "      <td>5.000000</td>\n",
              "      <td>10.000000</td>\n",
              "      <td>6.000000</td>\n",
              "      <td>3.000000</td>\n",
              "    </tr>\n",
              "  </tbody>\n",
              "</table>\n",
              "</div>\n",
              "      <button class=\"colab-df-convert\" onclick=\"convertToInteractive('df-aff600b4-0250-4cb4-af52-3b937de7f77a')\"\n",
              "              title=\"Convert this dataframe to an interactive table.\"\n",
              "              style=\"display:none;\">\n",
              "        \n",
              "  <svg xmlns=\"http://www.w3.org/2000/svg\" height=\"24px\"viewBox=\"0 0 24 24\"\n",
              "       width=\"24px\">\n",
              "    <path d=\"M0 0h24v24H0V0z\" fill=\"none\"/>\n",
              "    <path d=\"M18.56 5.44l.94 2.06.94-2.06 2.06-.94-2.06-.94-.94-2.06-.94 2.06-2.06.94zm-11 1L8.5 8.5l.94-2.06 2.06-.94-2.06-.94L8.5 2.5l-.94 2.06-2.06.94zm10 10l.94 2.06.94-2.06 2.06-.94-2.06-.94-.94-2.06-.94 2.06-2.06.94z\"/><path d=\"M17.41 7.96l-1.37-1.37c-.4-.4-.92-.59-1.43-.59-.52 0-1.04.2-1.43.59L10.3 9.45l-7.72 7.72c-.78.78-.78 2.05 0 2.83L4 21.41c.39.39.9.59 1.41.59.51 0 1.02-.2 1.41-.59l7.78-7.78 2.81-2.81c.8-.78.8-2.07 0-2.86zM5.41 20L4 18.59l7.72-7.72 1.47 1.35L5.41 20z\"/>\n",
              "  </svg>\n",
              "      </button>\n",
              "      \n",
              "  <style>\n",
              "    .colab-df-container {\n",
              "      display:flex;\n",
              "      flex-wrap:wrap;\n",
              "      gap: 12px;\n",
              "    }\n",
              "\n",
              "    .colab-df-convert {\n",
              "      background-color: #E8F0FE;\n",
              "      border: none;\n",
              "      border-radius: 50%;\n",
              "      cursor: pointer;\n",
              "      display: none;\n",
              "      fill: #1967D2;\n",
              "      height: 32px;\n",
              "      padding: 0 0 0 0;\n",
              "      width: 32px;\n",
              "    }\n",
              "\n",
              "    .colab-df-convert:hover {\n",
              "      background-color: #E2EBFA;\n",
              "      box-shadow: 0px 1px 2px rgba(60, 64, 67, 0.3), 0px 1px 3px 1px rgba(60, 64, 67, 0.15);\n",
              "      fill: #174EA6;\n",
              "    }\n",
              "\n",
              "    [theme=dark] .colab-df-convert {\n",
              "      background-color: #3B4455;\n",
              "      fill: #D2E3FC;\n",
              "    }\n",
              "\n",
              "    [theme=dark] .colab-df-convert:hover {\n",
              "      background-color: #434B5C;\n",
              "      box-shadow: 0px 1px 3px 1px rgba(0, 0, 0, 0.15);\n",
              "      filter: drop-shadow(0px 1px 2px rgba(0, 0, 0, 0.3));\n",
              "      fill: #FFFFFF;\n",
              "    }\n",
              "  </style>\n",
              "\n",
              "      <script>\n",
              "        const buttonEl =\n",
              "          document.querySelector('#df-aff600b4-0250-4cb4-af52-3b937de7f77a button.colab-df-convert');\n",
              "        buttonEl.style.display =\n",
              "          google.colab.kernel.accessAllowed ? 'block' : 'none';\n",
              "\n",
              "        async function convertToInteractive(key) {\n",
              "          const element = document.querySelector('#df-aff600b4-0250-4cb4-af52-3b937de7f77a');\n",
              "          const dataTable =\n",
              "            await google.colab.kernel.invokeFunction('convertToInteractive',\n",
              "                                                     [key], {});\n",
              "          if (!dataTable) return;\n",
              "\n",
              "          const docLinkHtml = 'Like what you see? Visit the ' +\n",
              "            '<a target=\"_blank\" href=https://colab.research.google.com/notebooks/data_table.ipynb>data table notebook</a>'\n",
              "            + ' to learn more about interactive tables.';\n",
              "          element.innerHTML = '';\n",
              "          dataTable['output_type'] = 'display_data';\n",
              "          await google.colab.output.renderOutput(dataTable, element);\n",
              "          const docLink = document.createElement('div');\n",
              "          docLink.innerHTML = docLinkHtml;\n",
              "          element.appendChild(docLink);\n",
              "        }\n",
              "      </script>\n",
              "    </div>\n",
              "  </div>\n",
              "  "
            ],
            "text/plain": [
              "               0           1           2   ...          17          18          19\n",
              "count  286.000000  286.000000  286.000000  ...  286.000000  286.000000  286.000000\n",
              "mean     0.531469    0.468531    0.762238  ...    4.881119    0.517483    2.048951\n",
              "std      0.499883    0.499883    0.426459  ...    2.105930    1.110417    0.738217\n",
              "min      0.000000    0.000000    0.000000  ...    0.000000    0.000000    1.000000\n",
              "25%      0.000000    0.000000    1.000000  ...    4.000000    0.000000    2.000000\n",
              "50%      1.000000    0.000000    1.000000  ...    5.000000    0.000000    2.000000\n",
              "75%      1.000000    1.000000    1.000000  ...    6.000000    1.000000    3.000000\n",
              "max      1.000000    1.000000    1.000000  ...   10.000000    6.000000    3.000000\n",
              "\n",
              "[8 rows x 20 columns]"
            ]
          },
          "metadata": {},
          "execution_count": 57
        }
      ],
      "source": [
        "df_p.describe()"
      ]
    },
    {
      "cell_type": "code",
      "execution_count": 58,
      "metadata": {
        "colab": {
          "base_uri": "https://localhost:8080/",
          "height": 206
        },
        "id": "VNaqdoGKwRy5",
        "outputId": "8c123b0a-c20f-4c6d-bf31-a24f89e34dc8"
      },
      "outputs": [
        {
          "output_type": "execute_result",
          "data": {
            "text/html": [
              "\n",
              "  <div id=\"df-039ae4d7-7533-4989-b4c1-4b0e2381a649\">\n",
              "    <div class=\"colab-df-container\">\n",
              "      <div>\n",
              "<style scoped>\n",
              "    .dataframe tbody tr th:only-of-type {\n",
              "        vertical-align: middle;\n",
              "    }\n",
              "\n",
              "    .dataframe tbody tr th {\n",
              "        vertical-align: top;\n",
              "    }\n",
              "\n",
              "    .dataframe thead th {\n",
              "        text-align: right;\n",
              "    }\n",
              "</style>\n",
              "<table border=\"1\" class=\"dataframe\">\n",
              "  <thead>\n",
              "    <tr style=\"text-align: right;\">\n",
              "      <th></th>\n",
              "      <th>0</th>\n",
              "      <th>1</th>\n",
              "      <th>2</th>\n",
              "      <th>3</th>\n",
              "      <th>4</th>\n",
              "      <th>5</th>\n",
              "      <th>6</th>\n",
              "      <th>7</th>\n",
              "      <th>8</th>\n",
              "      <th>9</th>\n",
              "      <th>10</th>\n",
              "      <th>11</th>\n",
              "      <th>12</th>\n",
              "      <th>13</th>\n",
              "      <th>14</th>\n",
              "      <th>15</th>\n",
              "      <th>16</th>\n",
              "      <th>17</th>\n",
              "      <th>18</th>\n",
              "      <th>19</th>\n",
              "    </tr>\n",
              "  </thead>\n",
              "  <tbody>\n",
              "    <tr>\n",
              "      <th>0</th>\n",
              "      <td>1</td>\n",
              "      <td>0</td>\n",
              "      <td>1</td>\n",
              "      <td>0</td>\n",
              "      <td>0</td>\n",
              "      <td>0</td>\n",
              "      <td>1</td>\n",
              "      <td>0</td>\n",
              "      <td>0</td>\n",
              "      <td>0</td>\n",
              "      <td>0</td>\n",
              "      <td>1</td>\n",
              "      <td>0</td>\n",
              "      <td>0</td>\n",
              "      <td>0</td>\n",
              "      <td>1</td>\n",
              "      <td>1</td>\n",
              "      <td>6</td>\n",
              "      <td>0</td>\n",
              "      <td>3</td>\n",
              "    </tr>\n",
              "    <tr>\n",
              "      <th>1</th>\n",
              "      <td>0</td>\n",
              "      <td>1</td>\n",
              "      <td>1</td>\n",
              "      <td>0</td>\n",
              "      <td>0</td>\n",
              "      <td>0</td>\n",
              "      <td>0</td>\n",
              "      <td>0</td>\n",
              "      <td>0</td>\n",
              "      <td>1</td>\n",
              "      <td>0</td>\n",
              "      <td>1</td>\n",
              "      <td>0</td>\n",
              "      <td>0</td>\n",
              "      <td>0</td>\n",
              "      <td>1</td>\n",
              "      <td>2</td>\n",
              "      <td>4</td>\n",
              "      <td>0</td>\n",
              "      <td>2</td>\n",
              "    </tr>\n",
              "    <tr>\n",
              "      <th>2</th>\n",
              "      <td>1</td>\n",
              "      <td>0</td>\n",
              "      <td>1</td>\n",
              "      <td>0</td>\n",
              "      <td>0</td>\n",
              "      <td>0</td>\n",
              "      <td>1</td>\n",
              "      <td>0</td>\n",
              "      <td>0</td>\n",
              "      <td>0</td>\n",
              "      <td>0</td>\n",
              "      <td>1</td>\n",
              "      <td>0</td>\n",
              "      <td>0</td>\n",
              "      <td>0</td>\n",
              "      <td>1</td>\n",
              "      <td>2</td>\n",
              "      <td>4</td>\n",
              "      <td>0</td>\n",
              "      <td>2</td>\n",
              "    </tr>\n",
              "    <tr>\n",
              "      <th>3</th>\n",
              "      <td>0</td>\n",
              "      <td>1</td>\n",
              "      <td>1</td>\n",
              "      <td>0</td>\n",
              "      <td>0</td>\n",
              "      <td>0</td>\n",
              "      <td>0</td>\n",
              "      <td>1</td>\n",
              "      <td>0</td>\n",
              "      <td>0</td>\n",
              "      <td>0</td>\n",
              "      <td>1</td>\n",
              "      <td>0</td>\n",
              "      <td>1</td>\n",
              "      <td>0</td>\n",
              "      <td>0</td>\n",
              "      <td>4</td>\n",
              "      <td>3</td>\n",
              "      <td>0</td>\n",
              "      <td>2</td>\n",
              "    </tr>\n",
              "    <tr>\n",
              "      <th>4</th>\n",
              "      <td>0</td>\n",
              "      <td>1</td>\n",
              "      <td>1</td>\n",
              "      <td>0</td>\n",
              "      <td>0</td>\n",
              "      <td>0</td>\n",
              "      <td>0</td>\n",
              "      <td>0</td>\n",
              "      <td>1</td>\n",
              "      <td>0</td>\n",
              "      <td>0</td>\n",
              "      <td>1</td>\n",
              "      <td>0</td>\n",
              "      <td>0</td>\n",
              "      <td>0</td>\n",
              "      <td>1</td>\n",
              "      <td>2</td>\n",
              "      <td>0</td>\n",
              "      <td>0</td>\n",
              "      <td>2</td>\n",
              "    </tr>\n",
              "  </tbody>\n",
              "</table>\n",
              "</div>\n",
              "      <button class=\"colab-df-convert\" onclick=\"convertToInteractive('df-039ae4d7-7533-4989-b4c1-4b0e2381a649')\"\n",
              "              title=\"Convert this dataframe to an interactive table.\"\n",
              "              style=\"display:none;\">\n",
              "        \n",
              "  <svg xmlns=\"http://www.w3.org/2000/svg\" height=\"24px\"viewBox=\"0 0 24 24\"\n",
              "       width=\"24px\">\n",
              "    <path d=\"M0 0h24v24H0V0z\" fill=\"none\"/>\n",
              "    <path d=\"M18.56 5.44l.94 2.06.94-2.06 2.06-.94-2.06-.94-.94-2.06-.94 2.06-2.06.94zm-11 1L8.5 8.5l.94-2.06 2.06-.94-2.06-.94L8.5 2.5l-.94 2.06-2.06.94zm10 10l.94 2.06.94-2.06 2.06-.94-2.06-.94-.94-2.06-.94 2.06-2.06.94z\"/><path d=\"M17.41 7.96l-1.37-1.37c-.4-.4-.92-.59-1.43-.59-.52 0-1.04.2-1.43.59L10.3 9.45l-7.72 7.72c-.78.78-.78 2.05 0 2.83L4 21.41c.39.39.9.59 1.41.59.51 0 1.02-.2 1.41-.59l7.78-7.78 2.81-2.81c.8-.78.8-2.07 0-2.86zM5.41 20L4 18.59l7.72-7.72 1.47 1.35L5.41 20z\"/>\n",
              "  </svg>\n",
              "      </button>\n",
              "      \n",
              "  <style>\n",
              "    .colab-df-container {\n",
              "      display:flex;\n",
              "      flex-wrap:wrap;\n",
              "      gap: 12px;\n",
              "    }\n",
              "\n",
              "    .colab-df-convert {\n",
              "      background-color: #E8F0FE;\n",
              "      border: none;\n",
              "      border-radius: 50%;\n",
              "      cursor: pointer;\n",
              "      display: none;\n",
              "      fill: #1967D2;\n",
              "      height: 32px;\n",
              "      padding: 0 0 0 0;\n",
              "      width: 32px;\n",
              "    }\n",
              "\n",
              "    .colab-df-convert:hover {\n",
              "      background-color: #E2EBFA;\n",
              "      box-shadow: 0px 1px 2px rgba(60, 64, 67, 0.3), 0px 1px 3px 1px rgba(60, 64, 67, 0.15);\n",
              "      fill: #174EA6;\n",
              "    }\n",
              "\n",
              "    [theme=dark] .colab-df-convert {\n",
              "      background-color: #3B4455;\n",
              "      fill: #D2E3FC;\n",
              "    }\n",
              "\n",
              "    [theme=dark] .colab-df-convert:hover {\n",
              "      background-color: #434B5C;\n",
              "      box-shadow: 0px 1px 3px 1px rgba(0, 0, 0, 0.15);\n",
              "      filter: drop-shadow(0px 1px 2px rgba(0, 0, 0, 0.3));\n",
              "      fill: #FFFFFF;\n",
              "    }\n",
              "  </style>\n",
              "\n",
              "      <script>\n",
              "        const buttonEl =\n",
              "          document.querySelector('#df-039ae4d7-7533-4989-b4c1-4b0e2381a649 button.colab-df-convert');\n",
              "        buttonEl.style.display =\n",
              "          google.colab.kernel.accessAllowed ? 'block' : 'none';\n",
              "\n",
              "        async function convertToInteractive(key) {\n",
              "          const element = document.querySelector('#df-039ae4d7-7533-4989-b4c1-4b0e2381a649');\n",
              "          const dataTable =\n",
              "            await google.colab.kernel.invokeFunction('convertToInteractive',\n",
              "                                                     [key], {});\n",
              "          if (!dataTable) return;\n",
              "\n",
              "          const docLinkHtml = 'Like what you see? Visit the ' +\n",
              "            '<a target=\"_blank\" href=https://colab.research.google.com/notebooks/data_table.ipynb>data table notebook</a>'\n",
              "            + ' to learn more about interactive tables.';\n",
              "          element.innerHTML = '';\n",
              "          dataTable['output_type'] = 'display_data';\n",
              "          await google.colab.output.renderOutput(dataTable, element);\n",
              "          const docLink = document.createElement('div');\n",
              "          docLink.innerHTML = docLinkHtml;\n",
              "          element.appendChild(docLink);\n",
              "        }\n",
              "      </script>\n",
              "    </div>\n",
              "  </div>\n",
              "  "
            ],
            "text/plain": [
              "   0   1   2   3   4   5   6   7   8   ...  11  12  13  14  15  16  17  18  19\n",
              "0   1   0   1   0   0   0   1   0   0  ...   1   0   0   0   1   1   6   0   3\n",
              "1   0   1   1   0   0   0   0   0   0  ...   1   0   0   0   1   2   4   0   2\n",
              "2   1   0   1   0   0   0   1   0   0  ...   1   0   0   0   1   2   4   0   2\n",
              "3   0   1   1   0   0   0   0   1   0  ...   1   0   1   0   0   4   3   0   2\n",
              "4   0   1   1   0   0   0   0   0   1  ...   1   0   0   0   1   2   0   0   2\n",
              "\n",
              "[5 rows x 20 columns]"
            ]
          },
          "metadata": {},
          "execution_count": 58
        }
      ],
      "source": [
        "df_p.head()"
      ]
    },
    {
      "cell_type": "markdown",
      "metadata": {
        "id": "sIaX_cQ2wRy6"
      },
      "source": [
        "The columns in the transformed dataset are generated according to the order you see printing the preprocessor after fitting, therefore the last four columns correspond to `'age', 'tumor-size', 'inv-nodes', 'deg-malig'`.\n",
        "\n",
        "In order to inspect if the translation and check if the mapping is as expected, compare the sorted values of df['tumor-size'] and df_p[17], e.g. comparing the index sequences"
      ]
    },
    {
      "cell_type": "code",
      "execution_count": 60,
      "metadata": {
        "colab": {
          "base_uri": "https://localhost:8080/"
        },
        "id": "NKLXZHEBwRy6",
        "outputId": "300e70d3-71a1-42f2-baa8-772b867583a6"
      },
      "outputs": [
        {
          "output_type": "stream",
          "name": "stdout",
          "text": [
            "The number of index discordances between 'tumor-size' and '17' is 0\n"
          ]
        }
      ],
      "source": [
        "orig_col= 'tumor-size'\n",
        "transf_col= 17\n",
        "a= pd.DataFrame(zip(df[orig_col],df_p[transf_col]))\n",
        "print('The number of index discordances between \\'{}\\' and \\'{}\\' is {}'.\\\n",
        "      format(orig_col, transf_col, sum(a.sort_values(by = 0).index.values!=a.sort_values(by = 1).index.values)))"
      ]
    },
    {
      "cell_type": "markdown",
      "metadata": {
        "id": "Kyb26gKXwRy7"
      },
      "source": [
        "Train/test split"
      ]
    },
    {
      "cell_type": "code",
      "execution_count": 61,
      "metadata": {
        "id": "n3cZXsG7yxtn"
      },
      "outputs": [],
      "source": [
        "X_train, X_test, y_train, y_test = train_test_split(X_p,y, random_state = random_state)"
      ]
    },
    {
      "cell_type": "markdown",
      "metadata": {
        "id": "j4eYqVAAwRy7"
      },
      "source": [
        "Classification and test"
      ]
    },
    {
      "cell_type": "code",
      "execution_count": 62,
      "metadata": {
        "id": "-yrRT3X9yxtp"
      },
      "outputs": [],
      "source": [
        "model_lbls = [\n",
        "             'dt', \n",
        "             'nb', \n",
        "             'lp', \n",
        "             'svc', \n",
        "              'knn',\n",
        "             'rfc',\n",
        "             'ada',\n",
        "            ]\n",
        "\n",
        "# Set the parameters by cross-validation\n",
        "tuned_param_dt = [{'max_depth': list(range(1,20))}]\n",
        "tuned_param_nb = [{'var_smoothing': [10**i for i in range(1,-11, -1)]}]\n",
        "tuned_param_lp = [{'early_stopping': [True]}]\n",
        "tuned_param_svc = [{'kernel': ['rbf'], \n",
        "                    'gamma': [1e-3, 1e-4],\n",
        "#                     'C': [1, 10, 100, 1000],\n",
        "                    'C': [10**i for i in range(0,4)],\n",
        "                    },\n",
        "                    {'kernel': ['linear'],\n",
        "                    'C': [10**i for i in range(0,4)],\n",
        "                    },\n",
        "                   ]\n",
        "tuned_param_knn =[{'n_neighbors': list(range(1,11)),\n",
        "                   'metric': ['euclidean', 'manhattan', 'chebyshev']}\n",
        "                 ]\n",
        "tuned_param_rfc =[{'max_depth': list(range(1,11))}]\n",
        "tuned_param_ada = [{'learning_rate': [1., 0.1, 0.01, 0.001, 0.0001]}]\n",
        "\n",
        "models = {\n",
        "    'dt': {'name': 'Decision Tree       ',\n",
        "           'estimator': DecisionTreeClassifier(), \n",
        "           'param': tuned_param_dt,\n",
        "          },\n",
        "    'nb': {'name': 'Gaussian Naive Bayes',\n",
        "           'estimator': GaussianNB(),\n",
        "           'param': tuned_param_nb\n",
        "          },\n",
        "    'lp': {'name': 'Linear Perceptron   ',\n",
        "           'estimator': Perceptron(),\n",
        "           'param': tuned_param_lp,\n",
        "          },\n",
        "    'svc':{'name': 'Support Vector      ',\n",
        "           'estimator': SVC(), \n",
        "           'param': tuned_param_svc\n",
        "          },\n",
        "    'knn':{'name': 'K Nearest Neighbor  ',\n",
        "           'estimator': KNeighborsClassifier(),\n",
        "           'param': tuned_param_knn\n",
        "          },\n",
        "    'rfc':{'name': 'Random Forest       ',\n",
        "           'estimator': RandomForestClassifier(),\n",
        "           'param': tuned_param_rfc\n",
        "          }, \n",
        "    'ada':{'name': 'Adaboost            ',\n",
        "           'estimator': AdaBoostClassifier(),\n",
        "           'param': tuned_param_ada\n",
        "          },\n",
        "}\n",
        "\n",
        "scores = [\n",
        "#    'precision_macro', \n",
        "    'recall_macro', \n",
        "#    'accuracy',\n",
        "#    'f1_macro'\n",
        "]"
      ]
    },
    {
      "cell_type": "code",
      "execution_count": null,
      "metadata": {
        "id": "cfA3_n9DwRy8"
      },
      "outputs": [],
      "source": [
        ""
      ]
    },
    {
      "cell_type": "code",
      "execution_count": 63,
      "metadata": {
        "id": "wK1iFhVmyxtq"
      },
      "outputs": [],
      "source": [
        "# def plot_confusion_matrix(cm):\n",
        "#     print(cm) \n",
        "#     fig = plt.figure(figsize=(10,10))\n",
        "#     ax = fig.add_subplot(111) \n",
        "#     cax = ax.matshow(cm) \n",
        "#     plt.title('Confusion matrix of the classifier') \n",
        "#     fig.colorbar(cax) \n",
        "#     ax.set_xticklabels([''] + labels) \n",
        "#     ax.set_yticklabels([''] + labels) \n",
        "#     plt.xlabel('Predicted') \n",
        "#     plt.ylabel('True') \n",
        "#     plt.show()\n",
        "\n",
        "def print_results(model):\n",
        "    print(\"Best parameters set found on train set:\")\n",
        "    print()\n",
        "    # if best is linear there is no gamma parameter\n",
        "    print(model.best_params_)\n",
        "    print()\n",
        "    print(\"Grid scores on train set:\")\n",
        "    print()\n",
        "    means = model.cv_results_['mean_test_score']\n",
        "    stds = model.cv_results_['std_test_score']\n",
        "    params = model.cv_results_['params']\n",
        "    for mean, std, params_tuple in zip(means, stds, params):\n",
        "        print(\"%0.3f (+/-%0.03f) for %r\"\n",
        "              % (mean, std * 2, params_tuple))\n",
        "    print()\n",
        "    print(\"Detailed classification report for the best parameter set:\")\n",
        "    print()\n",
        "    print(\"The model is trained on the full train set.\")\n",
        "    print(\"The scores are computed on the full test set.\")\n",
        "    print()\n",
        "    y_true, y_pred = y_test, model.predict(X_test)\n",
        "    print(classification_report(y_true, y_pred))\n",
        "    cm = confusion_matrix(y_true,y_pred, labels = labels)\n",
        "    print(cm)\n",
        "#     plot_confusion_matrix(cm)\n",
        "    print()"
      ]
    },
    {
      "cell_type": "code",
      "execution_count": 65,
      "metadata": {
        "id": "u25hL2HQyxts",
        "outputId": "b79ede89-97b6-44dc-fc55-2d03187791c1",
        "colab": {
          "base_uri": "https://localhost:8080/"
        }
      },
      "outputs": [
        {
          "output_type": "stream",
          "name": "stdout",
          "text": [
            "========================================\n",
            "# Tuning hyper-parameters for recall_macro\n",
            "\n",
            "----------------------------------------\n",
            "Trying model Decision Tree       \n",
            "Best parameters set found on train set:\n",
            "\n",
            "{'max_depth': 2}\n",
            "\n",
            "Grid scores on train set:\n",
            "\n",
            "0.567 (+/-0.073) for {'max_depth': 1}\n",
            "0.601 (+/-0.119) for {'max_depth': 2}\n",
            "0.590 (+/-0.127) for {'max_depth': 3}\n",
            "0.570 (+/-0.114) for {'max_depth': 4}\n",
            "0.535 (+/-0.113) for {'max_depth': 5}\n",
            "0.571 (+/-0.134) for {'max_depth': 6}\n",
            "0.577 (+/-0.113) for {'max_depth': 7}\n",
            "0.560 (+/-0.261) for {'max_depth': 8}\n",
            "0.593 (+/-0.259) for {'max_depth': 9}\n",
            "0.567 (+/-0.129) for {'max_depth': 10}\n",
            "0.559 (+/-0.221) for {'max_depth': 11}\n",
            "0.551 (+/-0.153) for {'max_depth': 12}\n",
            "0.576 (+/-0.171) for {'max_depth': 13}\n",
            "0.592 (+/-0.156) for {'max_depth': 14}\n",
            "0.588 (+/-0.198) for {'max_depth': 15}\n",
            "0.544 (+/-0.213) for {'max_depth': 16}\n",
            "0.524 (+/-0.191) for {'max_depth': 17}\n",
            "0.556 (+/-0.251) for {'max_depth': 18}\n",
            "0.556 (+/-0.254) for {'max_depth': 19}\n",
            "\n",
            "Detailed classification report for the best parameter set:\n",
            "\n",
            "The model is trained on the full train set.\n",
            "The scores are computed on the full test set.\n",
            "\n",
            "                      precision    recall  f1-score   support\n",
            "\n",
            "no-recurrence-events       0.72      0.98      0.83        49\n",
            "   recurrence-events       0.80      0.17      0.29        23\n",
            "\n",
            "            accuracy                           0.72        72\n",
            "           macro avg       0.76      0.58      0.56        72\n",
            "        weighted avg       0.74      0.72      0.65        72\n",
            "\n",
            "[[48  1]\n",
            " [19  4]]\n",
            "\n",
            "----------------------------------------\n",
            "Trying model Gaussian Naive Bayes\n",
            "Best parameters set found on train set:\n",
            "\n",
            "{'var_smoothing': 0.01}\n",
            "\n",
            "Grid scores on train set:\n",
            "\n",
            "0.500 (+/-0.000) for {'var_smoothing': 10}\n",
            "0.506 (+/-0.049) for {'var_smoothing': 1}\n",
            "0.591 (+/-0.101) for {'var_smoothing': 0.1}\n",
            "0.643 (+/-0.127) for {'var_smoothing': 0.01}\n",
            "0.633 (+/-0.110) for {'var_smoothing': 0.001}\n",
            "0.610 (+/-0.122) for {'var_smoothing': 0.0001}\n",
            "0.605 (+/-0.073) for {'var_smoothing': 1e-05}\n",
            "0.596 (+/-0.085) for {'var_smoothing': 1e-06}\n",
            "0.586 (+/-0.086) for {'var_smoothing': 1e-07}\n",
            "0.571 (+/-0.113) for {'var_smoothing': 1e-08}\n",
            "0.550 (+/-0.129) for {'var_smoothing': 1e-09}\n",
            "0.545 (+/-0.121) for {'var_smoothing': 1e-10}\n",
            "\n",
            "Detailed classification report for the best parameter set:\n",
            "\n",
            "The model is trained on the full train set.\n",
            "The scores are computed on the full test set.\n",
            "\n",
            "                      precision    recall  f1-score   support\n",
            "\n",
            "no-recurrence-events       0.73      0.88      0.80        49\n",
            "   recurrence-events       0.54      0.30      0.39        23\n",
            "\n",
            "            accuracy                           0.69        72\n",
            "           macro avg       0.63      0.59      0.59        72\n",
            "        weighted avg       0.67      0.69      0.67        72\n",
            "\n",
            "[[43  6]\n",
            " [16  7]]\n",
            "\n",
            "----------------------------------------\n",
            "Trying model Linear Perceptron   \n",
            "Best parameters set found on train set:\n",
            "\n",
            "{'early_stopping': True}\n",
            "\n",
            "Grid scores on train set:\n",
            "\n",
            "0.572 (+/-0.061) for {'early_stopping': True}\n",
            "\n",
            "Detailed classification report for the best parameter set:\n",
            "\n",
            "The model is trained on the full train set.\n",
            "The scores are computed on the full test set.\n",
            "\n",
            "                      precision    recall  f1-score   support\n",
            "\n",
            "no-recurrence-events       1.00      0.14      0.25        49\n",
            "   recurrence-events       0.35      1.00      0.52        23\n",
            "\n",
            "            accuracy                           0.42        72\n",
            "           macro avg       0.68      0.57      0.39        72\n",
            "        weighted avg       0.79      0.42      0.34        72\n",
            "\n",
            "[[ 7 42]\n",
            " [ 0 23]]\n",
            "\n",
            "----------------------------------------\n",
            "Trying model Support Vector      \n",
            "Best parameters set found on train set:\n",
            "\n",
            "{'C': 10, 'kernel': 'linear'}\n",
            "\n",
            "Grid scores on train set:\n",
            "\n",
            "0.500 (+/-0.000) for {'C': 1, 'gamma': 0.001, 'kernel': 'rbf'}\n",
            "0.500 (+/-0.000) for {'C': 1, 'gamma': 0.0001, 'kernel': 'rbf'}\n",
            "0.498 (+/-0.055) for {'C': 10, 'gamma': 0.001, 'kernel': 'rbf'}\n",
            "0.500 (+/-0.000) for {'C': 10, 'gamma': 0.0001, 'kernel': 'rbf'}\n",
            "0.549 (+/-0.065) for {'C': 100, 'gamma': 0.001, 'kernel': 'rbf'}\n",
            "0.498 (+/-0.055) for {'C': 100, 'gamma': 0.0001, 'kernel': 'rbf'}\n",
            "0.570 (+/-0.122) for {'C': 1000, 'gamma': 0.001, 'kernel': 'rbf'}\n",
            "0.556 (+/-0.079) for {'C': 1000, 'gamma': 0.0001, 'kernel': 'rbf'}\n",
            "0.581 (+/-0.089) for {'C': 1, 'kernel': 'linear'}\n",
            "0.601 (+/-0.159) for {'C': 10, 'kernel': 'linear'}\n",
            "0.598 (+/-0.159) for {'C': 100, 'kernel': 'linear'}\n",
            "0.598 (+/-0.159) for {'C': 1000, 'kernel': 'linear'}\n",
            "\n",
            "Detailed classification report for the best parameter set:\n",
            "\n",
            "The model is trained on the full train set.\n",
            "The scores are computed on the full test set.\n",
            "\n",
            "                      precision    recall  f1-score   support\n",
            "\n",
            "no-recurrence-events       0.73      0.92      0.81        49\n",
            "   recurrence-events       0.60      0.26      0.36        23\n",
            "\n",
            "            accuracy                           0.71        72\n",
            "           macro avg       0.66      0.59      0.59        72\n",
            "        weighted avg       0.69      0.71      0.67        72\n",
            "\n",
            "[[45  4]\n",
            " [17  6]]\n",
            "\n",
            "----------------------------------------\n",
            "Trying model K Nearest Neighbor  \n",
            "Best parameters set found on train set:\n",
            "\n",
            "{'metric': 'manhattan', 'n_neighbors': 7}\n",
            "\n",
            "Grid scores on train set:\n",
            "\n",
            "0.567 (+/-0.162) for {'metric': 'euclidean', 'n_neighbors': 1}\n",
            "0.501 (+/-0.051) for {'metric': 'euclidean', 'n_neighbors': 2}\n",
            "0.517 (+/-0.150) for {'metric': 'euclidean', 'n_neighbors': 3}\n",
            "0.525 (+/-0.136) for {'metric': 'euclidean', 'n_neighbors': 4}\n",
            "0.538 (+/-0.187) for {'metric': 'euclidean', 'n_neighbors': 5}\n",
            "0.530 (+/-0.105) for {'metric': 'euclidean', 'n_neighbors': 6}\n",
            "0.554 (+/-0.075) for {'metric': 'euclidean', 'n_neighbors': 7}\n",
            "0.533 (+/-0.058) for {'metric': 'euclidean', 'n_neighbors': 8}\n",
            "0.570 (+/-0.091) for {'metric': 'euclidean', 'n_neighbors': 9}\n",
            "0.525 (+/-0.102) for {'metric': 'euclidean', 'n_neighbors': 10}\n",
            "0.596 (+/-0.126) for {'metric': 'manhattan', 'n_neighbors': 1}\n",
            "0.538 (+/-0.037) for {'metric': 'manhattan', 'n_neighbors': 2}\n",
            "0.536 (+/-0.163) for {'metric': 'manhattan', 'n_neighbors': 3}\n",
            "0.554 (+/-0.092) for {'metric': 'manhattan', 'n_neighbors': 4}\n",
            "0.568 (+/-0.117) for {'metric': 'manhattan', 'n_neighbors': 5}\n",
            "0.573 (+/-0.129) for {'metric': 'manhattan', 'n_neighbors': 6}\n",
            "0.598 (+/-0.160) for {'metric': 'manhattan', 'n_neighbors': 7}\n",
            "0.581 (+/-0.156) for {'metric': 'manhattan', 'n_neighbors': 8}\n",
            "0.580 (+/-0.186) for {'metric': 'manhattan', 'n_neighbors': 9}\n",
            "0.558 (+/-0.115) for {'metric': 'manhattan', 'n_neighbors': 10}\n",
            "0.569 (+/-0.126) for {'metric': 'chebyshev', 'n_neighbors': 1}\n",
            "0.557 (+/-0.132) for {'metric': 'chebyshev', 'n_neighbors': 2}\n",
            "0.567 (+/-0.175) for {'metric': 'chebyshev', 'n_neighbors': 3}\n",
            "0.501 (+/-0.129) for {'metric': 'chebyshev', 'n_neighbors': 4}\n",
            "0.517 (+/-0.080) for {'metric': 'chebyshev', 'n_neighbors': 5}\n",
            "0.517 (+/-0.039) for {'metric': 'chebyshev', 'n_neighbors': 6}\n",
            "0.541 (+/-0.055) for {'metric': 'chebyshev', 'n_neighbors': 7}\n",
            "0.500 (+/-0.061) for {'metric': 'chebyshev', 'n_neighbors': 8}\n",
            "0.498 (+/-0.050) for {'metric': 'chebyshev', 'n_neighbors': 9}\n",
            "0.477 (+/-0.067) for {'metric': 'chebyshev', 'n_neighbors': 10}\n",
            "\n",
            "Detailed classification report for the best parameter set:\n",
            "\n",
            "The model is trained on the full train set.\n",
            "The scores are computed on the full test set.\n",
            "\n",
            "                      precision    recall  f1-score   support\n",
            "\n",
            "no-recurrence-events       0.70      0.90      0.79        49\n",
            "   recurrence-events       0.44      0.17      0.25        23\n",
            "\n",
            "            accuracy                           0.67        72\n",
            "           macro avg       0.57      0.54      0.52        72\n",
            "        weighted avg       0.62      0.67      0.61        72\n",
            "\n",
            "[[44  5]\n",
            " [19  4]]\n",
            "\n",
            "----------------------------------------\n",
            "Trying model Random Forest       \n",
            "Best parameters set found on train set:\n",
            "\n",
            "{'max_depth': 7}\n",
            "\n",
            "Grid scores on train set:\n",
            "\n",
            "0.500 (+/-0.000) for {'max_depth': 1}\n",
            "0.586 (+/-0.032) for {'max_depth': 2}\n",
            "0.591 (+/-0.102) for {'max_depth': 3}\n",
            "0.588 (+/-0.100) for {'max_depth': 4}\n",
            "0.615 (+/-0.079) for {'max_depth': 5}\n",
            "0.612 (+/-0.112) for {'max_depth': 6}\n",
            "0.632 (+/-0.120) for {'max_depth': 7}\n",
            "0.604 (+/-0.102) for {'max_depth': 8}\n",
            "0.604 (+/-0.102) for {'max_depth': 9}\n",
            "0.598 (+/-0.167) for {'max_depth': 10}\n",
            "\n",
            "Detailed classification report for the best parameter set:\n",
            "\n",
            "The model is trained on the full train set.\n",
            "The scores are computed on the full test set.\n",
            "\n",
            "                      precision    recall  f1-score   support\n",
            "\n",
            "no-recurrence-events       0.71      0.96      0.82        49\n",
            "   recurrence-events       0.67      0.17      0.28        23\n",
            "\n",
            "            accuracy                           0.71        72\n",
            "           macro avg       0.69      0.57      0.55        72\n",
            "        weighted avg       0.70      0.71      0.64        72\n",
            "\n",
            "[[47  2]\n",
            " [19  4]]\n",
            "\n",
            "----------------------------------------\n",
            "Trying model Adaboost            \n",
            "Best parameters set found on train set:\n",
            "\n",
            "{'learning_rate': 0.01}\n",
            "\n",
            "Grid scores on train set:\n",
            "\n",
            "0.571 (+/-0.153) for {'learning_rate': 1.0}\n",
            "0.617 (+/-0.117) for {'learning_rate': 0.1}\n",
            "0.635 (+/-0.167) for {'learning_rate': 0.01}\n",
            "0.567 (+/-0.073) for {'learning_rate': 0.001}\n",
            "0.567 (+/-0.073) for {'learning_rate': 0.0001}\n",
            "\n",
            "Detailed classification report for the best parameter set:\n",
            "\n",
            "The model is trained on the full train set.\n",
            "The scores are computed on the full test set.\n",
            "\n",
            "                      precision    recall  f1-score   support\n",
            "\n",
            "no-recurrence-events       0.72      0.98      0.83        49\n",
            "   recurrence-events       0.80      0.17      0.29        23\n",
            "\n",
            "            accuracy                           0.72        72\n",
            "           macro avg       0.76      0.58      0.56        72\n",
            "        weighted avg       0.74      0.72      0.65        72\n",
            "\n",
            "[[48  1]\n",
            " [19  4]]\n",
            "\n",
            "Summary of results for recall_macro\n",
            "Estimator\n",
            "Decision Tree       \t - score:  0.6%\n",
            "Gaussian Naive Bayes\t - score: 0.64%\n",
            "Linear Perceptron   \t - score: 0.57%\n",
            "Support Vector      \t - score:  0.6%\n",
            "K Nearest Neighbor  \t - score:  0.6%\n",
            "Random Forest       \t - score: 0.63%\n",
            "Adaboost            \t - score: 0.63%\n"
          ]
        }
      ],
      "source": [
        "results_short = {}\n",
        "\n",
        "for score in scores:\n",
        "    print('='*40)\n",
        "    print(\"# Tuning hyper-parameters for %s\" % score)\n",
        "    print()\n",
        "\n",
        "    #'%s_macro' % score ## is a string formatting expression\n",
        "    # the parameter after % is substituted in the string placeholder %s\n",
        "    for m in model_lbls:\n",
        "        print('-'*40)\n",
        "        print(\"Trying model {}\".format(models[m]['name']))\n",
        "        clf = GridSearchCV(models[m]['estimator'], models[m]['param'], cv=5,\n",
        "                           scoring=score, \n",
        "                           #iid = False, \n",
        "                           return_train_score = False,\n",
        "                           n_jobs = 2, # this allows using multi-cores\n",
        "                           )\n",
        "        clf.fit(X_train, y_train)\n",
        "        print_results(clf)\n",
        "        results_short[m] = clf.best_score_\n",
        "    print(\"Summary of results for {}\".format(score))\n",
        "    print(\"Estimator\")\n",
        "    for m in results_short.keys():\n",
        "        print(\"{}\\t - score: {:4.2}%\".format(models[m]['name'], results_short[m]))"
      ]
    }
  ],
  "metadata": {
    "kernelspec": {
      "display_name": "Python 3",
      "language": "python",
      "name": "python3"
    },
    "language_info": {
      "codemirror_mode": {
        "name": "ipython",
        "version": 3
      },
      "file_extension": ".py",
      "mimetype": "text/x-python",
      "name": "python",
      "nbconvert_exporter": "python",
      "pygments_lexer": "ipython3",
      "version": "3.7.9"
    },
    "colab": {
      "name": "ml-03-04-classif-w-prepr_nocode.ipynb",
      "provenance": [],
      "include_colab_link": true
    }
  },
  "nbformat": 4,
  "nbformat_minor": 0
}